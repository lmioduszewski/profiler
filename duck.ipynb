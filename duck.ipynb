{
 "cells": [
  {
   "cell_type": "code",
   "execution_count": 2,
   "outputs": [],
   "source": [
    "import duckdb\n",
    "import pandas as pd"
   ],
   "metadata": {
    "collapsed": false,
    "ExecuteTime": {
     "end_time": "2024-01-27T02:44:50.776072800Z",
     "start_time": "2024-01-27T02:44:49.935448400Z"
    }
   },
   "id": "4cbdadc02799414"
  },
  {
   "cell_type": "code",
   "execution_count": 3,
   "outputs": [
    {
     "name": "stdout",
     "output_type": "stream",
     "text": [
      "Deploy AI and data apps for free on Ploomber Cloud! Learn more: https://docs.cloud.ploomber.io/en/latest/quickstart/signup.html\n"
     ]
    }
   ],
   "source": [
    "# Import jupysql Jupyter extension to create SQL cells\n",
    "%load_ext sql\n",
    "%config SqlMagic.autopandas = True\n",
    "%config SqlMagic.feedback = False\n",
    "%config SqlMagic.displaycon = False\n",
    "\n",
    "%sql duckdb:///:medmory:\n",
    "# %sql duckdb:///path/to/file.db\n",
    "\n"
   ],
   "metadata": {
    "collapsed": false,
    "ExecuteTime": {
     "end_time": "2024-01-27T02:51:13.975915800Z",
     "start_time": "2024-01-27T02:51:10.717130Z"
    }
   },
   "id": "5efda85d45fb3835"
  },
  {
   "cell_type": "code",
   "execution_count": 6,
   "outputs": [
    {
     "data": {
      "text/plain": "Empty DataFrame\nColumns: [Success]\nIndex: []",
      "text/html": "<div>\n<style scoped>\n    .dataframe tbody tr th:only-of-type {\n        vertical-align: middle;\n    }\n\n    .dataframe tbody tr th {\n        vertical-align: top;\n    }\n\n    .dataframe thead th {\n        text-align: right;\n    }\n</style>\n<table border=\"1\" class=\"dataframe\">\n  <thead>\n    <tr style=\"text-align: right;\">\n      <th></th>\n      <th>Success</th>\n    </tr>\n  </thead>\n  <tbody>\n  </tbody>\n</table>\n</div>"
     },
     "execution_count": 6,
     "metadata": {},
     "output_type": "execute_result"
    }
   ],
   "source": [
    "%%sql\n",
    "\n",
    "SELECT * FROM duckdb_extensions();\n",
    "INSTALL httpfs;\n",
    "LOAD httpfs;"
   ],
   "metadata": {
    "collapsed": false,
    "ExecuteTime": {
     "end_time": "2024-01-27T02:53:57.558683600Z",
     "start_time": "2024-01-27T02:53:55.454569200Z"
    }
   },
   "id": "7295b791ef4f237"
  },
  {
   "cell_type": "code",
   "execution_count": 9,
   "outputs": [
    {
     "data": {
      "text/plain": "Empty DataFrame\nColumns: [Success]\nIndex: []",
      "text/html": "<div>\n<style scoped>\n    .dataframe tbody tr th:only-of-type {\n        vertical-align: middle;\n    }\n\n    .dataframe tbody tr th {\n        vertical-align: top;\n    }\n\n    .dataframe thead th {\n        text-align: right;\n    }\n</style>\n<table border=\"1\" class=\"dataframe\">\n  <thead>\n    <tr style=\"text-align: right;\">\n      <th></th>\n      <th>Success</th>\n    </tr>\n  </thead>\n  <tbody>\n  </tbody>\n</table>\n</div>"
     },
     "execution_count": 9,
     "metadata": {},
     "output_type": "execute_result"
    }
   ],
   "source": [
    "%%sql\n",
    "\n",
    "CREATE TABLE cities AS SELECT * FROM 'https://open.gishub.org/data/duckdb/cities.csv';"
   ],
   "metadata": {
    "collapsed": false,
    "ExecuteTime": {
     "end_time": "2024-01-27T02:56:42.039855800Z",
     "start_time": "2024-01-27T02:56:41.304913300Z"
    }
   },
   "id": "e33ae4a94be3304b"
  },
  {
   "cell_type": "code",
   "execution_count": 10,
   "outputs": [
    {
     "data": {
      "text/plain": "Empty DataFrame\nColumns: [Success]\nIndex: []",
      "text/html": "<div>\n<style scoped>\n    .dataframe tbody tr th:only-of-type {\n        vertical-align: middle;\n    }\n\n    .dataframe tbody tr th {\n        vertical-align: top;\n    }\n\n    .dataframe thead th {\n        text-align: right;\n    }\n</style>\n<table border=\"1\" class=\"dataframe\">\n  <thead>\n    <tr style=\"text-align: right;\">\n      <th></th>\n      <th>Success</th>\n    </tr>\n  </thead>\n  <tbody>\n  </tbody>\n</table>\n</div>"
     },
     "execution_count": 10,
     "metadata": {},
     "output_type": "execute_result"
    }
   ],
   "source": [
    "%%sql\n",
    "\n",
    "CREATE TABLE countries AS SELECT * FROM 'https://open.gishub.org/data/duckdb/countries.csv';"
   ],
   "metadata": {
    "collapsed": false,
    "ExecuteTime": {
     "end_time": "2024-01-27T02:57:24.071240400Z",
     "start_time": "2024-01-27T02:57:23.484724300Z"
    }
   },
   "id": "8ca7fe004ce23a6c"
  },
  {
   "cell_type": "code",
   "execution_count": 20,
   "outputs": [
    {
     "data": {
      "text/plain": "        id            name country  latitude  longitude  population\n0        1           Bombo     UGA   0.58330   32.53330       75000\n1        2     Fort Portal     UGA   0.67100   30.27500       42670\n2        3         Potenza     ITA  40.64200   15.79900       69060\n3        4      Campobasso     ITA  41.56300   14.65600       50762\n4        5           Aosta     ITA  45.73700    7.31500       34062\n...    ...             ...     ...       ...        ...         ...\n1244  1245  Rio de Janeiro     BRA -22.92502  -43.22502    11748000\n1245  1246       Sao Paulo     BRA -23.55868  -46.62502    18845000\n1246  1247          Sydney     AUS -33.92001  151.18518     4630000\n1247  1248       Singapore     SGP   1.29303  103.85582     5183700\n1248  1249       Hong Kong     CHN  22.30498  114.18501     7206000\n\n[1249 rows x 6 columns]",
      "text/html": "<div>\n<style scoped>\n    .dataframe tbody tr th:only-of-type {\n        vertical-align: middle;\n    }\n\n    .dataframe tbody tr th {\n        vertical-align: top;\n    }\n\n    .dataframe thead th {\n        text-align: right;\n    }\n</style>\n<table border=\"1\" class=\"dataframe\">\n  <thead>\n    <tr style=\"text-align: right;\">\n      <th></th>\n      <th>id</th>\n      <th>name</th>\n      <th>country</th>\n      <th>latitude</th>\n      <th>longitude</th>\n      <th>population</th>\n    </tr>\n  </thead>\n  <tbody>\n    <tr>\n      <th>0</th>\n      <td>1</td>\n      <td>Bombo</td>\n      <td>UGA</td>\n      <td>0.58330</td>\n      <td>32.53330</td>\n      <td>75000</td>\n    </tr>\n    <tr>\n      <th>1</th>\n      <td>2</td>\n      <td>Fort Portal</td>\n      <td>UGA</td>\n      <td>0.67100</td>\n      <td>30.27500</td>\n      <td>42670</td>\n    </tr>\n    <tr>\n      <th>2</th>\n      <td>3</td>\n      <td>Potenza</td>\n      <td>ITA</td>\n      <td>40.64200</td>\n      <td>15.79900</td>\n      <td>69060</td>\n    </tr>\n    <tr>\n      <th>3</th>\n      <td>4</td>\n      <td>Campobasso</td>\n      <td>ITA</td>\n      <td>41.56300</td>\n      <td>14.65600</td>\n      <td>50762</td>\n    </tr>\n    <tr>\n      <th>4</th>\n      <td>5</td>\n      <td>Aosta</td>\n      <td>ITA</td>\n      <td>45.73700</td>\n      <td>7.31500</td>\n      <td>34062</td>\n    </tr>\n    <tr>\n      <th>...</th>\n      <td>...</td>\n      <td>...</td>\n      <td>...</td>\n      <td>...</td>\n      <td>...</td>\n      <td>...</td>\n    </tr>\n    <tr>\n      <th>1244</th>\n      <td>1245</td>\n      <td>Rio de Janeiro</td>\n      <td>BRA</td>\n      <td>-22.92502</td>\n      <td>-43.22502</td>\n      <td>11748000</td>\n    </tr>\n    <tr>\n      <th>1245</th>\n      <td>1246</td>\n      <td>Sao Paulo</td>\n      <td>BRA</td>\n      <td>-23.55868</td>\n      <td>-46.62502</td>\n      <td>18845000</td>\n    </tr>\n    <tr>\n      <th>1246</th>\n      <td>1247</td>\n      <td>Sydney</td>\n      <td>AUS</td>\n      <td>-33.92001</td>\n      <td>151.18518</td>\n      <td>4630000</td>\n    </tr>\n    <tr>\n      <th>1247</th>\n      <td>1248</td>\n      <td>Singapore</td>\n      <td>SGP</td>\n      <td>1.29303</td>\n      <td>103.85582</td>\n      <td>5183700</td>\n    </tr>\n    <tr>\n      <th>1248</th>\n      <td>1249</td>\n      <td>Hong Kong</td>\n      <td>CHN</td>\n      <td>22.30498</td>\n      <td>114.18501</td>\n      <td>7206000</td>\n    </tr>\n  </tbody>\n</table>\n<p>1249 rows × 6 columns</p>\n</div>"
     },
     "execution_count": 20,
     "metadata": {},
     "output_type": "execute_result"
    }
   ],
   "source": [
    "%%sql \n",
    "\n",
    "SELECT * FROM cities\n"
   ],
   "metadata": {
    "collapsed": false,
    "ExecuteTime": {
     "end_time": "2024-01-27T03:19:00.285299600Z",
     "start_time": "2024-01-27T03:18:59.919630900Z"
    }
   },
   "id": "5f63523589b333dd"
  },
  {
   "cell_type": "code",
   "execution_count": 23,
   "outputs": [
    {
     "data": {
      "text/plain": "                name  population    category\n0              Bombo       75000  Small city\n1        Fort Portal       42670  Small city\n2            Potenza       69060  Small city\n3         Campobasso       50762  Small city\n4              Aosta       34062  Small city\n...              ...         ...         ...\n1244  Rio de Janeiro    11748000    Megacity\n1245       Sao Paulo    18845000    Megacity\n1246          Sydney     4630000  Large city\n1247       Singapore     5183700  Large city\n1248       Hong Kong     7206000  Large city\n\n[1249 rows x 3 columns]",
      "text/html": "<div>\n<style scoped>\n    .dataframe tbody tr th:only-of-type {\n        vertical-align: middle;\n    }\n\n    .dataframe tbody tr th {\n        vertical-align: top;\n    }\n\n    .dataframe thead th {\n        text-align: right;\n    }\n</style>\n<table border=\"1\" class=\"dataframe\">\n  <thead>\n    <tr style=\"text-align: right;\">\n      <th></th>\n      <th>name</th>\n      <th>population</th>\n      <th>category</th>\n    </tr>\n  </thead>\n  <tbody>\n    <tr>\n      <th>0</th>\n      <td>Bombo</td>\n      <td>75000</td>\n      <td>Small city</td>\n    </tr>\n    <tr>\n      <th>1</th>\n      <td>Fort Portal</td>\n      <td>42670</td>\n      <td>Small city</td>\n    </tr>\n    <tr>\n      <th>2</th>\n      <td>Potenza</td>\n      <td>69060</td>\n      <td>Small city</td>\n    </tr>\n    <tr>\n      <th>3</th>\n      <td>Campobasso</td>\n      <td>50762</td>\n      <td>Small city</td>\n    </tr>\n    <tr>\n      <th>4</th>\n      <td>Aosta</td>\n      <td>34062</td>\n      <td>Small city</td>\n    </tr>\n    <tr>\n      <th>...</th>\n      <td>...</td>\n      <td>...</td>\n      <td>...</td>\n    </tr>\n    <tr>\n      <th>1244</th>\n      <td>Rio de Janeiro</td>\n      <td>11748000</td>\n      <td>Megacity</td>\n    </tr>\n    <tr>\n      <th>1245</th>\n      <td>Sao Paulo</td>\n      <td>18845000</td>\n      <td>Megacity</td>\n    </tr>\n    <tr>\n      <th>1246</th>\n      <td>Sydney</td>\n      <td>4630000</td>\n      <td>Large city</td>\n    </tr>\n    <tr>\n      <th>1247</th>\n      <td>Singapore</td>\n      <td>5183700</td>\n      <td>Large city</td>\n    </tr>\n    <tr>\n      <th>1248</th>\n      <td>Hong Kong</td>\n      <td>7206000</td>\n      <td>Large city</td>\n    </tr>\n  </tbody>\n</table>\n<p>1249 rows × 3 columns</p>\n</div>"
     },
     "execution_count": 23,
     "metadata": {},
     "output_type": "execute_result"
    }
   ],
   "source": [
    "%%sql\n",
    "\n",
    "SELECT name, population,\n",
    "CASE\n",
    "    WHEN population > 10000000 THEN 'Megacity'\n",
    "    WHEN population > 1000000 THEN 'Large city'\n",
    "    ELSE 'Small city'\n",
    "END AS category\n",
    "FROM cities;"
   ],
   "metadata": {
    "collapsed": false,
    "ExecuteTime": {
     "end_time": "2024-01-27T03:24:53.236306900Z",
     "start_time": "2024-01-27T03:24:52.884971800Z"
    }
   },
   "id": "8304f6bf59532e6e"
  },
  {
   "cell_type": "code",
   "execution_count": null,
   "outputs": [],
   "source": [],
   "metadata": {
    "collapsed": false
   },
   "id": "b41e5ea6aa519f52"
  },
  {
   "cell_type": "code",
   "execution_count": 36,
   "outputs": [],
   "source": [
    "import duckdb\n",
    "from pathlib import Path\n",
    "import pandas as pd\n",
    "import numpy as np\n",
    "\n",
    "explo_database = Path.home() / \"Python\\Projects\\qgis-plugin-xsections\\Exploration_Database.csv\"\n",
    "explo_database = pd.read_csv(explo_database)\n",
    "# explo_database = duckdb.read_csv(explo_database.as_posix())\n",
    "explo_database = explo_database.iloc[1:, :]"
   ],
   "metadata": {
    "collapsed": false,
    "ExecuteTime": {
     "end_time": "2024-01-29T20:50:10.120248Z",
     "start_time": "2024-01-29T20:50:10.089012700Z"
    }
   },
   "id": "9ce5a4391b2ad0cd"
  },
  {
   "cell_type": "code",
   "execution_count": 37,
   "outputs": [],
   "source": [
    "explo_database[explo_database == '--'] = np.nan"
   ],
   "metadata": {
    "collapsed": false,
    "ExecuteTime": {
     "end_time": "2024-01-29T20:50:10.680326200Z",
     "start_time": "2024-01-29T20:50:10.670185900Z"
    }
   },
   "id": "89ed7f5a7b351dc1"
  },
  {
   "cell_type": "code",
   "execution_count": 48,
   "outputs": [],
   "source": [
    "explo_database = explo_database.iloc[:111, :]"
   ],
   "metadata": {
    "collapsed": false,
    "ExecuteTime": {
     "end_time": "2024-01-29T21:10:14.740937Z",
     "start_time": "2024-01-29T21:10:14.714575100Z"
    }
   },
   "id": "ea346886c6379455"
  },
  {
   "cell_type": "code",
   "execution_count": null,
   "outputs": [],
   "source": [],
   "metadata": {
    "collapsed": false
   },
   "id": "58a356e9d1f2a137"
  }
 ],
 "metadata": {
  "kernelspec": {
   "display_name": "Python 3",
   "language": "python",
   "name": "python3"
  },
  "language_info": {
   "codemirror_mode": {
    "name": "ipython",
    "version": 2
   },
   "file_extension": ".py",
   "mimetype": "text/x-python",
   "name": "python",
   "nbconvert_exporter": "python",
   "pygments_lexer": "ipython2",
   "version": "2.7.6"
  }
 },
 "nbformat": 4,
 "nbformat_minor": 5
}
